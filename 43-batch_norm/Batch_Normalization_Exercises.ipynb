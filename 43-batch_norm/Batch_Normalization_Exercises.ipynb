{
 "cells": [
  {
   "cell_type": "markdown",
   "metadata": {},
   "source": [
    "# Batch Normalization – Practice"
   ]
  },
  {
   "cell_type": "markdown",
   "metadata": {},
   "source": [
    "Batch normalization is most useful when building deep neural networks. To demonstrate this, we'll create a convolutional neural network with 20 convolutional layers, followed by a fully connected layer. We'll use it to classify handwritten digits in the MNIST dataset, which should be familiar to you by now.\n",
    "\n",
    "This is **not** a good network for classfying MNIST digits. You could create a _much_ simpler network and get _better_ results. However, to give you hands-on experience with batch normalization, we had to make an example that was:\n",
    "1. Complicated enough that training would benefit from batch normalization.\n",
    "2. Simple enough that it would train quickly, since this is meant to be a short exercise just to give you some practice adding batch normalization.\n",
    "3. Simple enough that the architecture would be easy to understand without additional resources."
   ]
  },
  {
   "cell_type": "markdown",
   "metadata": {},
   "source": [
    "This notebook includes two versions of the network that you can edit. The first uses higher level functions from the `tf.layers` package. The second is the same network, but uses only lower level functions in the `tf.nn` package.\n",
    "\n",
    "1. [Batch Normalization with `tf.layers.batch_normalization`](#example_1)\n",
    "2. [Batch Normalization with `tf.nn.batch_normalization`](#example_2)"
   ]
  },
  {
   "cell_type": "markdown",
   "metadata": {},
   "source": [
    "The following cell loads TensorFlow, downloads the MNIST dataset if necessary, and loads it into an object named `mnist`. You'll need to run this cell before running anything else in the notebook."
   ]
  },
  {
   "cell_type": "code",
   "execution_count": 2,
   "metadata": {
    "collapsed": false
   },
   "outputs": [
    {
     "name": "stdout",
     "output_type": "stream",
     "text": [
      "Extracting MNIST_data/train-images-idx3-ubyte.gz\n",
      "Extracting MNIST_data/train-labels-idx1-ubyte.gz\n",
      "Extracting MNIST_data/t10k-images-idx3-ubyte.gz\n",
      "Extracting MNIST_data/t10k-labels-idx1-ubyte.gz\n"
     ]
    }
   ],
   "source": [
    "import tensorflow as tf\n",
    "from tensorflow.examples.tutorials.mnist import input_data\n",
    "mnist = input_data.read_data_sets(\"MNIST_data/\", one_hot=True, reshape=False)"
   ]
  },
  {
   "cell_type": "markdown",
   "metadata": {},
   "source": [
    "# Batch Normalization using `tf.layers.batch_normalization`<a id=\"example_1\"></a>\n",
    "\n",
    "This version of the network uses `tf.layers` for almost everything, and expects you to implement batch normalization using [`tf.layers.batch_normalization`](https://www.tensorflow.org/api_docs/python/tf/layers/batch_normalization) "
   ]
  },
  {
   "cell_type": "markdown",
   "metadata": {},
   "source": [
    "We'll use the following function to create fully connected layers in our network. We'll create them with the specified number of neurons and a ReLU activation function.\n",
    "\n",
    "This version of the function does not include batch normalization."
   ]
  },
  {
   "cell_type": "code",
   "execution_count": 3,
   "metadata": {
    "collapsed": true
   },
   "outputs": [],
   "source": [
    "\"\"\"\n",
    "DO NOT MODIFY THIS CELL\n",
    "\"\"\"\n",
    "def fully_connected(prev_layer, num_units):\n",
    "    \"\"\"\n",
    "    Create a fully connectd layer with the given layer as input and the given number of neurons.\n",
    "    \n",
    "    :param prev_layer: Tensor\n",
    "        The Tensor that acts as input into this layer\n",
    "    :param num_units: int\n",
    "        The size of the layer. That is, the number of units, nodes, or neurons.\n",
    "    :returns Tensor\n",
    "        A new fully connected layer\n",
    "    \"\"\"\n",
    "    layer = tf.layers.dense(prev_layer, num_units, activation=tf.nn.relu)\n",
    "    return layer"
   ]
  },
  {
   "cell_type": "markdown",
   "metadata": {},
   "source": [
    "We'll use the following function to create convolutional layers in our network. They are very basic: we're always using a 3x3 kernel, ReLU activation functions, strides of 1x1 on layers with odd depths, and strides of 2x2 on layers with even depths. We aren't bothering with pooling layers at all in this network.\n",
    "\n",
    "This version of the function does not include batch normalization."
   ]
  },
  {
   "cell_type": "code",
   "execution_count": 4,
   "metadata": {
    "collapsed": true
   },
   "outputs": [],
   "source": [
    "\"\"\"\n",
    "DO NOT MODIFY THIS CELL\n",
    "\"\"\"\n",
    "def conv_layer(prev_layer, layer_depth):\n",
    "    \"\"\"\n",
    "    Create a convolutional layer with the given layer as input.\n",
    "    \n",
    "    :param prev_layer: Tensor\n",
    "        The Tensor that acts as input into this layer\n",
    "    :param layer_depth: int\n",
    "        We'll set the strides and number of feature maps based on the layer's depth in the network.\n",
    "        This is *not* a good way to make a CNN, but it helps us create this example with very little code.\n",
    "    :returns Tensor\n",
    "        A new convolutional layer\n",
    "    \"\"\"\n",
    "    strides = 2 if layer_depth % 3 == 0 else 1\n",
    "    conv_layer = tf.layers.conv2d(prev_layer, layer_depth*4, 3, strides, 'same', activation=tf.nn.relu)\n",
    "    return conv_layer"
   ]
  },
  {
   "cell_type": "markdown",
   "metadata": {},
   "source": [
    "**Run the following cell**, along with the earlier cells (to load the dataset and define the necessary functions). \n",
    "\n",
    "This cell builds the network **without** batch normalization, then trains it on the MNIST dataset. It displays loss and accuracy data periodically while training."
   ]
  },
  {
   "cell_type": "code",
   "execution_count": 5,
   "metadata": {
    "collapsed": false
   },
   "outputs": [
    {
     "name": "stdout",
     "output_type": "stream",
     "text": [
      "Batch:  0: Validation loss: 0.69063, Validation accuracy: 0.11260\n",
      "Batch: 25: Training loss: 0.33238, Training accuracy: 0.07812\n",
      "Batch: 50: Training loss: 0.32609, Training accuracy: 0.09375\n",
      "Batch: 75: Training loss: 0.32672, Training accuracy: 0.06250\n",
      "Batch: 100: Validation loss: 0.32508, Validation accuracy: 0.11260\n",
      "Batch: 125: Training loss: 0.32668, Training accuracy: 0.03125\n",
      "Batch: 150: Training loss: 0.32548, Training accuracy: 0.09375\n",
      "Batch: 175: Training loss: 0.32287, Training accuracy: 0.09375\n",
      "Batch: 200: Validation loss: 0.32579, Validation accuracy: 0.09860\n",
      "Batch: 225: Training loss: 0.32518, Training accuracy: 0.15625\n",
      "Batch: 250: Training loss: 0.32706, Training accuracy: 0.07812\n",
      "Batch: 275: Training loss: 0.32362, Training accuracy: 0.12500\n",
      "Batch: 300: Validation loss: 0.32571, Validation accuracy: 0.08680\n",
      "Batch: 325: Training loss: 0.32156, Training accuracy: 0.15625\n",
      "Batch: 350: Training loss: 0.32356, Training accuracy: 0.12500\n",
      "Batch: 375: Training loss: 0.32649, Training accuracy: 0.09375\n",
      "Batch: 400: Validation loss: 0.32487, Validation accuracy: 0.11260\n",
      "Batch: 425: Training loss: 0.32579, Training accuracy: 0.09375\n",
      "Batch: 450: Training loss: 0.32717, Training accuracy: 0.10938\n",
      "Batch: 475: Training loss: 0.32656, Training accuracy: 0.07812\n",
      "Batch: 500: Validation loss: 0.32518, Validation accuracy: 0.11000\n",
      "Batch: 525: Training loss: 0.32911, Training accuracy: 0.01562\n",
      "Batch: 550: Training loss: 0.32392, Training accuracy: 0.09375\n",
      "Batch: 575: Training loss: 0.32163, Training accuracy: 0.20312\n",
      "Batch: 600: Validation loss: 0.32525, Validation accuracy: 0.11260\n",
      "Batch: 625: Training loss: 0.32439, Training accuracy: 0.14062\n",
      "Batch: 650: Training loss: 0.32910, Training accuracy: 0.03125\n",
      "Batch: 675: Training loss: 0.32438, Training accuracy: 0.12500\n",
      "Batch: 700: Validation loss: 0.32493, Validation accuracy: 0.09860\n",
      "Batch: 725: Training loss: 0.32465, Training accuracy: 0.09375\n",
      "Batch: 750: Training loss: 0.32452, Training accuracy: 0.14062\n",
      "Batch: 775: Training loss: 0.32574, Training accuracy: 0.21875\n",
      "Final validation accuracy: 0.14240\n",
      "Final test accuracy: 0.13620\n",
      "Accuracy on 100 samples: 0.18\n"
     ]
    }
   ],
   "source": [
    "\"\"\"\n",
    "DO NOT MODIFY THIS CELL\n",
    "\"\"\"\n",
    "def train(num_batches, batch_size, learning_rate):\n",
    "    # Build placeholders for the input samples and labels \n",
    "    inputs = tf.placeholder(tf.float32, [None, 28, 28, 1])\n",
    "    labels = tf.placeholder(tf.float32, [None, 10])\n",
    "    \n",
    "    # Feed the inputs into a series of 20 convolutional layers \n",
    "    layer = inputs\n",
    "    for layer_i in range(1, 20):\n",
    "        layer = conv_layer(layer, layer_i)\n",
    "\n",
    "    # Flatten the output from the convolutional layers \n",
    "    orig_shape = layer.get_shape().as_list()\n",
    "    layer = tf.reshape(layer, shape=[-1, orig_shape[1] * orig_shape[2] * orig_shape[3]])\n",
    "\n",
    "    # Add one fully connected layer\n",
    "    layer = fully_connected(layer, 100)\n",
    "\n",
    "    # Create the output layer with 1 node for each \n",
    "    logits = tf.layers.dense(layer, 10)\n",
    "    \n",
    "    # Define loss and training operations\n",
    "    model_loss = tf.reduce_mean(tf.nn.sigmoid_cross_entropy_with_logits(logits=logits, labels=labels))\n",
    "    train_opt = tf.train.AdamOptimizer(learning_rate).minimize(model_loss)\n",
    "    \n",
    "    # Create operations to test accuracy\n",
    "    correct_prediction = tf.equal(tf.argmax(logits,1), tf.argmax(labels,1))\n",
    "    accuracy = tf.reduce_mean(tf.cast(correct_prediction, tf.float32))\n",
    "    \n",
    "    # Train and test the network\n",
    "    with tf.Session() as sess:\n",
    "        sess.run(tf.global_variables_initializer())\n",
    "        for batch_i in range(num_batches):\n",
    "            batch_xs, batch_ys = mnist.train.next_batch(batch_size)\n",
    "\n",
    "            # train this batch\n",
    "            sess.run(train_opt, {inputs: batch_xs, labels: batch_ys})\n",
    "            \n",
    "            # Periodically check the validation or training loss and accuracy\n",
    "            if batch_i % 100 == 0:\n",
    "                loss, acc = sess.run([model_loss, accuracy], {inputs: mnist.validation.images,\n",
    "                                                              labels: mnist.validation.labels})\n",
    "                print('Batch: {:>2}: Validation loss: {:>3.5f}, Validation accuracy: {:>3.5f}'.format(batch_i, loss, acc))\n",
    "            elif batch_i % 25 == 0:\n",
    "                loss, acc = sess.run([model_loss, accuracy], {inputs: batch_xs, labels: batch_ys})\n",
    "                print('Batch: {:>2}: Training loss: {:>3.5f}, Training accuracy: {:>3.5f}'.format(batch_i, loss, acc))\n",
    "\n",
    "        # At the end, score the final accuracy for both the validation and test sets\n",
    "        acc = sess.run(accuracy, {inputs: mnist.validation.images,\n",
    "                                  labels: mnist.validation.labels})\n",
    "        print('Final validation accuracy: {:>3.5f}'.format(acc))\n",
    "        acc = sess.run(accuracy, {inputs: mnist.test.images,\n",
    "                                  labels: mnist.test.labels})\n",
    "        print('Final test accuracy: {:>3.5f}'.format(acc))\n",
    "        \n",
    "        # Score the first 100 test images individually. This won't work if batch normalization isn't implemented correctly.\n",
    "        correct = 0\n",
    "        for i in range(100):\n",
    "            correct += sess.run(accuracy,feed_dict={inputs: [mnist.test.images[i]],\n",
    "                                                    labels: [mnist.test.labels[i]]})\n",
    "\n",
    "        print(\"Accuracy on 100 samples:\", correct/100)\n",
    "\n",
    "\n",
    "num_batches = 800\n",
    "batch_size = 64\n",
    "learning_rate = 0.002\n",
    "\n",
    "tf.reset_default_graph()\n",
    "with tf.Graph().as_default():\n",
    "    train(num_batches, batch_size, learning_rate)"
   ]
  },
  {
   "cell_type": "markdown",
   "metadata": {},
   "source": [
    "With this many layers, it's going to take a lot of iterations for this network to learn. By the time you're done training these 800 batches, your final test and validation accuracies probably won't be much better than 10%. (It will be different each time, but will most likely be less than 15%.)\n",
    "\n",
    "Using batch normalization, you'll be able to train this same network to over 90% in that same number of batches.\n",
    "\n",
    "\n",
    "# Add batch normalization\n",
    "\n",
    "We've copied the previous three cells to get you started. **Edit these cells** to add batch normalization to the network. For this exercise, you should use [`tf.layers.batch_normalization`](https://www.tensorflow.org/api_docs/python/tf/layers/batch_normalization) to handle most of the math, but you'll need to make a few other changes to your network to integrate batch normalization. You may want to refer back to the lesson notebook to remind yourself of important things, like how your graph operations need to know whether or not you are performing training or inference. \n",
    "\n",
    "If you get stuck, you can check out the `Batch_Normalization_Solutions` notebook to see how we did things."
   ]
  },
  {
   "cell_type": "markdown",
   "metadata": {},
   "source": [
    "**TODO:** Modify `fully_connected` to add batch normalization to the fully connected layers it creates. Feel free to change the function's parameters if it helps."
   ]
  },
  {
   "cell_type": "code",
   "execution_count": 11,
   "metadata": {
    "collapsed": true
   },
   "outputs": [],
   "source": [
    "def fully_connected(prev_layer, num_units, is_training):\n",
    "    \"\"\"\n",
    "    Create a fully connectd layer with the given layer as input and the given number of neurons.\n",
    "    \n",
    "    :param prev_layer: Tensor\n",
    "        The Tensor that acts as input into this layer\n",
    "    :param num_units: int\n",
    "        The size of the layer. That is, the number of units, nodes, or neurons.\n",
    "    :returns Tensor\n",
    "        A new fully connected layer\n",
    "    \"\"\"\n",
    "    layer = tf.layers.dense(prev_layer, num_units, activation=None)\n",
    "    batch_norm_out = tf.layers.batch_normalization(layer, training=is_training)\n",
    "    return tf.nn.relu(batch_norm_out)"
   ]
  },
  {
   "cell_type": "markdown",
   "metadata": {},
   "source": [
    "**TODO:** Modify `conv_layer` to add batch normalization to the convolutional layers it creates. Feel free to change the function's parameters if it helps."
   ]
  },
  {
   "cell_type": "code",
   "execution_count": 12,
   "metadata": {
    "collapsed": true
   },
   "outputs": [],
   "source": [
    "def conv_layer(prev_layer, layer_depth, is_training):\n",
    "    \"\"\"\n",
    "    Create a convolutional layer with the given layer as input.\n",
    "    \n",
    "    :param prev_layer: Tensor\n",
    "        The Tensor that acts as input into this layer\n",
    "    :param layer_depth: int\n",
    "        We'll set the strides and number of feature maps based on the layer's depth in the network.\n",
    "        This is *not* a good way to make a CNN, but it helps us create this example with very little code.\n",
    "    :returns Tensor\n",
    "        A new convolutional layer\n",
    "    \"\"\"\n",
    "    strides = 2 if layer_depth % 3 == 0 else 1\n",
    "    conv_layer = tf.layers.conv2d(prev_layer, layer_depth*4, 3, strides, 'same', activation=None)\n",
    "    batch_norm_out = tf.layers.batch_normalization(conv_layer, training=is_training)\n",
    "    return tf.nn.relu(batch_norm_out)"
   ]
  },
  {
   "cell_type": "markdown",
   "metadata": {},
   "source": [
    "**TODO:** Edit the `train` function to support batch normalization. You'll need to make sure the network knows whether or not it is training, and you'll need to make sure it updates and uses its population statistics correctly."
   ]
  },
  {
   "cell_type": "code",
   "execution_count": 13,
   "metadata": {
    "collapsed": false
   },
   "outputs": [
    {
     "name": "stdout",
     "output_type": "stream",
     "text": [
      "Batch:  0: Validation loss: 0.69087, Validation accuracy: 0.09860\n",
      "Batch: 25: Training loss: 0.57307, Training accuracy: 0.12500\n",
      "Batch: 50: Training loss: 0.46429, Training accuracy: 0.07812\n",
      "Batch: 75: Training loss: 0.40373, Training accuracy: 0.03125\n",
      "Batch: 100: Validation loss: 0.36410, Validation accuracy: 0.09240\n",
      "Batch: 125: Training loss: 0.35439, Training accuracy: 0.10938\n",
      "Batch: 150: Training loss: 0.32107, Training accuracy: 0.07812\n",
      "Batch: 175: Training loss: 0.30545, Training accuracy: 0.21875\n",
      "Batch: 200: Validation loss: 0.25651, Validation accuracy: 0.46100\n",
      "Batch: 225: Training loss: 0.19513, Training accuracy: 0.60938\n",
      "Batch: 250: Training loss: 0.09639, Training accuracy: 0.84375\n",
      "Batch: 275: Training loss: 0.06801, Training accuracy: 0.89062\n",
      "Batch: 300: Validation loss: 0.08365, Validation accuracy: 0.86500\n",
      "Batch: 325: Training loss: 0.03586, Training accuracy: 0.93750\n",
      "Batch: 350: Training loss: 0.14270, Training accuracy: 0.81250\n",
      "Batch: 375: Training loss: 0.02051, Training accuracy: 0.96875\n",
      "Batch: 400: Validation loss: 0.06722, Validation accuracy: 0.90420\n",
      "Batch: 425: Training loss: 0.01421, Training accuracy: 0.96875\n",
      "Batch: 450: Training loss: 0.01900, Training accuracy: 0.96875\n",
      "Batch: 475: Training loss: 0.05859, Training accuracy: 0.87500\n",
      "Batch: 500: Validation loss: 0.05282, Validation accuracy: 0.92680\n",
      "Batch: 525: Training loss: 0.01157, Training accuracy: 0.98438\n",
      "Batch: 550: Training loss: 0.01304, Training accuracy: 0.96875\n",
      "Batch: 575: Training loss: 0.07256, Training accuracy: 0.92188\n",
      "Batch: 600: Validation loss: 0.03037, Validation accuracy: 0.96060\n",
      "Batch: 625: Training loss: 0.02220, Training accuracy: 0.98438\n",
      "Batch: 650: Training loss: 0.03022, Training accuracy: 0.95312\n",
      "Batch: 675: Training loss: 0.04922, Training accuracy: 0.96875\n",
      "Batch: 700: Validation loss: 0.03223, Validation accuracy: 0.95940\n",
      "Batch: 725: Training loss: 0.01029, Training accuracy: 0.98438\n",
      "Batch: 750: Training loss: 0.02538, Training accuracy: 0.96875\n",
      "Batch: 775: Training loss: 0.02187, Training accuracy: 0.93750\n",
      "Final validation accuracy: 0.89300\n",
      "Final test accuracy: 0.88560\n",
      "Accuracy on 100 samples: 0.92\n"
     ]
    }
   ],
   "source": [
    "def train(num_batches, batch_size, learning_rate):\n",
    "    # Build placeholders for the input samples and labels \n",
    "    inputs = tf.placeholder(tf.float32, [None, 28, 28, 1])\n",
    "    labels = tf.placeholder(tf.float32, [None, 10])\n",
    "    \n",
    "    \n",
    "    is_training = tf.placeholder(tf.bool) #MW 052017\n",
    "    \n",
    "    # Feed the inputs into a series of 20 convolutional layers \n",
    "    layer = inputs\n",
    "    for layer_i in range(1, 20):\n",
    "        layer = conv_layer(layer, layer_i, is_training=is_training) #MW 052017\n",
    "\n",
    "    # Flatten the output from the convolutional layers \n",
    "    orig_shape = layer.get_shape().as_list()\n",
    "    layer = tf.reshape(layer, shape=[-1, orig_shape[1] * orig_shape[2] * orig_shape[3]])\n",
    "\n",
    "    # Add one fully connected layer\n",
    "    layer = fully_connected(layer, 100, is_training=is_training) #MW 052017\n",
    "\n",
    "    # Create the output layer with 1 node for each \n",
    "    logits = tf.layers.dense(layer, 10)\n",
    "    \n",
    "    # Define loss and training operations\n",
    "    model_loss = tf.reduce_mean(tf.nn.sigmoid_cross_entropy_with_logits(logits=logits, labels=labels))\n",
    "    \n",
    "    with tf.control_dependencies(tf.get_collection(tf.GraphKeys.UPDATE_OPS)): #MW 052017\n",
    "        train_opt = tf.train.AdamOptimizer(learning_rate).minimize(model_loss)\n",
    "    \n",
    "    # Create operations to test accuracy\n",
    "    correct_prediction = tf.equal(tf.argmax(logits,1), tf.argmax(labels,1))\n",
    "    accuracy = tf.reduce_mean(tf.cast(correct_prediction, tf.float32))\n",
    "    \n",
    "    # Train and test the network\n",
    "    with tf.Session() as sess:\n",
    "        sess.run(tf.global_variables_initializer())\n",
    "        for batch_i in range(num_batches):\n",
    "            batch_xs, batch_ys = mnist.train.next_batch(batch_size)\n",
    "\n",
    "            # train this batch\n",
    "            sess.run(train_opt, {inputs: batch_xs, \n",
    "                                 labels: batch_ys,\n",
    "                                 is_training: True\n",
    "                                })\n",
    "            \n",
    "            # Periodically check the validation or training loss and accuracy\n",
    "            if batch_i % 100 == 0:\n",
    "                loss, acc = sess.run([model_loss, accuracy], {inputs: mnist.validation.images,\n",
    "                                                              labels: mnist.validation.labels,\n",
    "                                                              is_training: False\n",
    "                                                             })\n",
    "                print('Batch: {:>2}: Validation loss: {:>3.5f}, Validation accuracy: {:>3.5f}'.format(batch_i, loss, acc))\n",
    "            elif batch_i % 25 == 0:\n",
    "                loss, acc = sess.run([model_loss, accuracy], {inputs: batch_xs, \n",
    "                                                              labels: batch_ys,\n",
    "                                                              is_training: False\n",
    "                                                             })\n",
    "                print('Batch: {:>2}: Training loss: {:>3.5f}, Training accuracy: {:>3.5f}'.format(batch_i, loss, acc))\n",
    "\n",
    "        # At the end, score the final accuracy for both the validation and test sets\n",
    "        acc = sess.run(accuracy, {inputs: mnist.validation.images,\n",
    "                                  labels: mnist.validation.labels,\n",
    "                                  is_training: False\n",
    "                                 })\n",
    "        print('Final validation accuracy: {:>3.5f}'.format(acc))\n",
    "        acc = sess.run(accuracy, {inputs: mnist.test.images,\n",
    "                                  labels: mnist.test.labels,\n",
    "                                  is_training: False\n",
    "                                 })\n",
    "        print('Final test accuracy: {:>3.5f}'.format(acc))\n",
    "        \n",
    "        # Score the first 100 test images individually. This won't work if batch normalization isn't implemented correctly.\n",
    "        correct = 0\n",
    "        for i in range(100):\n",
    "            correct += sess.run(accuracy,feed_dict={inputs: [mnist.test.images[i]],\n",
    "                                                    labels: [mnist.test.labels[i]],\n",
    "                                                    is_training: False\n",
    "                                                   })\n",
    "\n",
    "        print(\"Accuracy on 100 samples:\", correct/100)\n",
    "\n",
    "\n",
    "num_batches = 800\n",
    "batch_size = 64\n",
    "learning_rate = 0.002\n",
    "\n",
    "tf.reset_default_graph()\n",
    "with tf.Graph().as_default():\n",
    "    train(num_batches, batch_size, learning_rate)"
   ]
  },
  {
   "cell_type": "markdown",
   "metadata": {},
   "source": [
    "With batch normalization, you should now get an accuracy over 90%. Notice also the last line of the output: `Accuracy on 100 samples`. If this value is low while everything else looks good, that means you did not implement batch normalization correctly. Specifically, it means you either did not calculate the population mean and variance while training, or you are not using those values during inference.\n",
    "\n",
    "# Batch Normalization using `tf.nn.batch_normalization`<a id=\"example_2\"></a>\n",
    "\n",
    "Most of the time you will be able to use higher level functions exclusively, but sometimes you may want to work at a lower level. For example, if you ever want to implement a new feature – something new enough that TensorFlow does not already include a high-level implementation of it, like batch normalization in an LSTM – then you may need to know these sorts of things.\n",
    "\n",
    "This version of the network uses `tf.nn` for almost everything, and expects you to implement batch normalization using [`tf.nn.batch_normalization`](https://www.tensorflow.org/api_docs/python/tf/nn/batch_normalization).\n",
    "\n",
    "**Optional TODO:** You can run the next three cells before you edit them just to see how the network performs without batch normalization. However, the results should be pretty much the same as you saw with the previous example before you added batch normalization. \n",
    "\n",
    "**TODO:** Modify `fully_connected` to add batch normalization to the fully connected layers it creates. Feel free to change the function's parameters if it helps.\n",
    "\n",
    "**Note:** For convenience, we continue to use `tf.layers.dense` for the `fully_connected` layer. By this point in the class, you should have no problem replacing that with matrix operations between the `prev_layer` and explicit weights and biases variables."
   ]
  },
  {
   "cell_type": "code",
   "execution_count": 120,
   "metadata": {
    "collapsed": false
   },
   "outputs": [],
   "source": [
    "def batch_norm(layer, is_training, axes = -1,  decay = 0.99, eps = 1e-3):\n",
    "    \n",
    "    layer_shape = layer.get_shape().as_list()\n",
    "    output_shape = layer_shape[axes]\n",
    "    dims = list(range(len(layer_shape)))\n",
    "\n",
    "    gamma = tf.Variable(tf.ones([output_shape]))\n",
    "    beta  = tf.Variable(tf.zeros([output_shape]))\n",
    "    \n",
    "    pop_mean = tf.Variable(tf.zeros([output_shape]), trainable=False)\n",
    "    pop_var = tf.Variable(tf.ones([output_shape]), trainable=False)\n",
    "    \n",
    "    print(layer_shape, output_shape, dims, dims[:axes])\n",
    "    \n",
    "    def batch_training():\n",
    "        batch_mean, batch_var = tf.nn.moments(x = layer, axes = dims[:axes])\n",
    "        train_mean = tf.assign(pop_mean, pop_mean * decay + batch_mean * (1 - decay))\n",
    "        train_var =  tf.assign(pop_var,  pop_var * decay + batch_var  * (1 - decay))\n",
    "        \n",
    "        with tf.control_dependencies([train_mean, train_var]):\n",
    "            return tf.nn.batch_normalization(x = layer, \n",
    "                                             mean = batch_mean, \n",
    "                                             variance = batch_var, \n",
    "                                             offset = beta, \n",
    "                                             scale = gamma, \n",
    "                                             variance_epsilon = eps)\n",
    "        \n",
    "    def batch_infer():\n",
    "        return tf.nn.batch_normalization(x = layer, \n",
    "                                         mean = pop_mean, \n",
    "                                         variance = pop_var,\n",
    "                                         offset = beta, \n",
    "                                         scale = gamma, \n",
    "                                         variance_epsilon = eps)\n",
    "    \n",
    "    batch_norm_out = tf.cond(is_training, batch_training, batch_infer)\n",
    "    return batch_norm_out\n"
   ]
  },
  {
   "cell_type": "code",
   "execution_count": 121,
   "metadata": {
    "collapsed": true
   },
   "outputs": [],
   "source": [
    "def fully_connected(prev_layer, num_units, is_training):\n",
    "    \"\"\"\n",
    "    Create a fully connectd layer with the given layer as input and the given number of neurons.\n",
    "    \n",
    "    :param prev_layer: Tensor\n",
    "        The Tensor that acts as input into this layer\n",
    "    :param num_units: int\n",
    "        The size of the layer. That is, the number of units, nodes, or neurons.\n",
    "    :returns Tensor\n",
    "        A new fully connected layer\n",
    "    \"\"\"\n",
    "\n",
    "    layer = tf.layers.dense(prev_layer, num_units, activation=None, use_bias=False)\n",
    "    batch_norm_out = batch_norm(layer, is_training=is_training)\n",
    "    return tf.nn.relu(batch_norm_out)"
   ]
  },
  {
   "cell_type": "markdown",
   "metadata": {},
   "source": [
    "**TODO:** Modify `conv_layer` to add batch normalization to the fully connected layers it creates. Feel free to change the function's parameters if it helps.\n",
    "\n",
    "**Note:** Unlike in the previous example that used `tf.layers`, adding batch normalization to these convolutional layers _does_ require some slight differences to what you did in `fully_connected`. "
   ]
  },
  {
   "cell_type": "code",
   "execution_count": 122,
   "metadata": {
    "collapsed": true
   },
   "outputs": [],
   "source": [
    "def conv_layer(prev_layer, layer_depth, is_training):\n",
    "    \"\"\"\n",
    "    Create a convolutional layer with the given layer as input.\n",
    "    \n",
    "    :param prev_layer: Tensor\n",
    "        The Tensor that acts as input into this layer\n",
    "    :param layer_depth: int\n",
    "        We'll set the strides and number of feature maps based on the layer's depth in the network.\n",
    "        This is *not* a good way to make a CNN, but it helps us create this example with very little code.\n",
    "    :returns Tensor\n",
    "        A new convolutional layer\n",
    "    \"\"\"\n",
    "    strides = 2 if layer_depth % 3 == 0 else 1\n",
    "\n",
    "    in_channels = prev_layer.get_shape().as_list()[3]\n",
    "    out_channels = layer_depth*4\n",
    "    \n",
    "    weights = tf.Variable(\n",
    "        tf.truncated_normal([3, 3, in_channels, out_channels], stddev=0.05))\n",
    "\n",
    "    conv_layer = tf.nn.conv2d(prev_layer, weights, strides=[1,strides, strides, 1], padding='SAME')\n",
    "    batch_norm_out = batch_norm(conv_layer, is_training=is_training)\n",
    "    return tf.nn.relu(batch_norm_out)"
   ]
  },
  {
   "cell_type": "markdown",
   "metadata": {},
   "source": [
    "**TODO:** Edit the `train` function to support batch normalization. You'll need to make sure the network knows whether or not it is training."
   ]
  },
  {
   "cell_type": "code",
   "execution_count": 123,
   "metadata": {
    "collapsed": false
   },
   "outputs": [
    {
     "name": "stdout",
     "output_type": "stream",
     "text": [
      "[None, 28, 28, 4] 4 [0, 1, 2, 3] [0, 1, 2]\n",
      "[None, 28, 28, 8] 8 [0, 1, 2, 3] [0, 1, 2]\n",
      "[None, 14, 14, 12] 12 [0, 1, 2, 3] [0, 1, 2]\n",
      "[None, 14, 14, 16] 16 [0, 1, 2, 3] [0, 1, 2]\n",
      "[None, 14, 14, 20] 20 [0, 1, 2, 3] [0, 1, 2]\n",
      "[None, 7, 7, 24] 24 [0, 1, 2, 3] [0, 1, 2]\n",
      "[None, 7, 7, 28] 28 [0, 1, 2, 3] [0, 1, 2]\n",
      "[None, 7, 7, 32] 32 [0, 1, 2, 3] [0, 1, 2]\n",
      "[None, 4, 4, 36] 36 [0, 1, 2, 3] [0, 1, 2]\n",
      "[None, 4, 4, 40] 40 [0, 1, 2, 3] [0, 1, 2]\n",
      "[None, 4, 4, 44] 44 [0, 1, 2, 3] [0, 1, 2]\n",
      "[None, 2, 2, 48] 48 [0, 1, 2, 3] [0, 1, 2]\n",
      "[None, 2, 2, 52] 52 [0, 1, 2, 3] [0, 1, 2]\n",
      "[None, 2, 2, 56] 56 [0, 1, 2, 3] [0, 1, 2]\n",
      "[None, 1, 1, 60] 60 [0, 1, 2, 3] [0, 1, 2]\n",
      "[None, 1, 1, 64] 64 [0, 1, 2, 3] [0, 1, 2]\n",
      "[None, 1, 1, 68] 68 [0, 1, 2, 3] [0, 1, 2]\n",
      "[None, 1, 1, 72] 72 [0, 1, 2, 3] [0, 1, 2]\n",
      "[None, 1, 1, 76] 76 [0, 1, 2, 3] [0, 1, 2]\n",
      "[None, 100] 100 [0, 1] [0]\n",
      "Batch:  0: Validation loss: 0.69092, Validation accuracy: 0.09760\n",
      "Batch: 25: Training loss: 0.57784, Training accuracy: 0.14062\n",
      "Batch: 50: Training loss: 0.46446, Training accuracy: 0.06250\n",
      "Batch: 75: Training loss: 0.39865, Training accuracy: 0.10938\n",
      "Batch: 100: Validation loss: 0.36129, Validation accuracy: 0.08680\n",
      "Batch: 125: Training loss: 0.34895, Training accuracy: 0.09375\n",
      "Batch: 150: Training loss: 0.33362, Training accuracy: 0.20312\n",
      "Batch: 175: Training loss: 0.32430, Training accuracy: 0.09375\n",
      "Batch: 200: Validation loss: 0.35932, Validation accuracy: 0.13640\n",
      "Batch: 225: Training loss: 0.39698, Training accuracy: 0.12500\n",
      "Batch: 250: Training loss: 0.29105, Training accuracy: 0.39062\n",
      "Batch: 275: Training loss: 0.26350, Training accuracy: 0.50000\n",
      "Batch: 300: Validation loss: 0.28312, Validation accuracy: 0.53400\n",
      "Batch: 325: Training loss: 0.23338, Training accuracy: 0.54688\n",
      "Batch: 350: Training loss: 0.09090, Training accuracy: 0.82812\n",
      "Batch: 375: Training loss: 0.04375, Training accuracy: 0.90625\n",
      "Batch: 400: Validation loss: 0.06078, Validation accuracy: 0.90740\n",
      "Batch: 425: Training loss: 0.02959, Training accuracy: 0.93750\n",
      "Batch: 450: Training loss: 0.08863, Training accuracy: 0.84375\n",
      "Batch: 475: Training loss: 0.10245, Training accuracy: 0.92188\n",
      "Batch: 500: Validation loss: 0.03655, Validation accuracy: 0.95060\n",
      "Batch: 525: Training loss: 0.04409, Training accuracy: 0.92188\n",
      "Batch: 550: Training loss: 0.06037, Training accuracy: 0.90625\n",
      "Batch: 575: Training loss: 0.00336, Training accuracy: 1.00000\n",
      "Batch: 600: Validation loss: 0.07042, Validation accuracy: 0.90800\n",
      "Batch: 625: Training loss: 0.01913, Training accuracy: 0.96875\n",
      "Batch: 650: Training loss: 0.01285, Training accuracy: 0.98438\n",
      "Batch: 675: Training loss: 0.03484, Training accuracy: 0.92188\n",
      "Batch: 700: Validation loss: 0.02457, Validation accuracy: 0.97020\n",
      "Batch: 725: Training loss: 0.02164, Training accuracy: 0.95312\n",
      "Batch: 750: Training loss: 0.00150, Training accuracy: 1.00000\n",
      "Batch: 775: Training loss: 0.02487, Training accuracy: 0.95312\n",
      "Final validation accuracy: 0.88120\n",
      "Final test accuracy: 0.87690\n",
      "Accuracy on 100 samples: 0.87\n"
     ]
    }
   ],
   "source": [
    "def train(num_batches, batch_size, learning_rate):\n",
    "    # Build placeholders for the input samples and labels \n",
    "    inputs = tf.placeholder(tf.float32, [None, 28, 28, 1])\n",
    "    labels = tf.placeholder(tf.float32, [None, 10])\n",
    "    \n",
    "    is_training = tf.placeholder(tf.bool)\n",
    "    \n",
    "    # Feed the inputs into a series of 20 convolutional layers \n",
    "    layer = inputs\n",
    "    for layer_i in range(1, 20):\n",
    "        layer = conv_layer(layer, layer_i, is_training=is_training)\n",
    "\n",
    "    # Flatten the output from the convolutional layers \n",
    "    orig_shape = layer.get_shape().as_list()\n",
    "    layer = tf.reshape(layer, shape=[-1, orig_shape[1] * orig_shape[2] * orig_shape[3]])\n",
    "\n",
    "    # Add one fully connected layer\n",
    "    layer = fully_connected(layer, 100, is_training=is_training)\n",
    "\n",
    "    # Create the output layer with 1 node for each \n",
    "    logits = tf.layers.dense(layer, 10)\n",
    "    \n",
    "    # Define loss and training operations\n",
    "    model_loss = tf.reduce_mean(tf.nn.sigmoid_cross_entropy_with_logits(logits=logits, labels=labels))\n",
    "    train_opt = tf.train.AdamOptimizer(learning_rate).minimize(model_loss)\n",
    "    \n",
    "    # Create operations to test accuracy\n",
    "    correct_prediction = tf.equal(tf.argmax(logits,1), tf.argmax(labels,1))\n",
    "    accuracy = tf.reduce_mean(tf.cast(correct_prediction, tf.float32))\n",
    "    \n",
    "    # Train and test the network\n",
    "    with tf.Session() as sess:\n",
    "        sess.run(tf.global_variables_initializer())\n",
    "        for batch_i in range(num_batches):\n",
    "            batch_xs, batch_ys = mnist.train.next_batch(batch_size)\n",
    "\n",
    "            # train this batch\n",
    "            sess.run(train_opt, {inputs: batch_xs, \n",
    "                                 labels: batch_ys,\n",
    "                                 is_training: True\n",
    "                                })\n",
    "            \n",
    "            # Periodically check the validation or training loss and accuracy\n",
    "            if batch_i % 100 == 0:\n",
    "                loss, acc = sess.run([model_loss, accuracy], {inputs: mnist.validation.images,\n",
    "                                                              labels: mnist.validation.labels,\n",
    "                                                              is_training: False\n",
    "                                                             })\n",
    "                print('Batch: {:>2}: Validation loss: {:>3.5f}, Validation accuracy: {:>3.5f}'.format(batch_i, loss, acc))\n",
    "            elif batch_i % 25 == 0:\n",
    "                loss, acc = sess.run([model_loss, accuracy], {inputs: batch_xs, \n",
    "                                                              labels: batch_ys,\n",
    "                                                              is_training: False\n",
    "                                                             })\n",
    "                print('Batch: {:>2}: Training loss: {:>3.5f}, Training accuracy: {:>3.5f}'.format(batch_i, loss, acc))\n",
    "\n",
    "        # At the end, score the final accuracy for both the validation and test sets\n",
    "        acc = sess.run(accuracy, {inputs: mnist.validation.images,\n",
    "                                  labels: mnist.validation.labels,\n",
    "                                  is_training: False\n",
    "                                 })\n",
    "        print('Final validation accuracy: {:>3.5f}'.format(acc))\n",
    "        acc = sess.run(accuracy, {inputs: mnist.test.images,\n",
    "                                  labels: mnist.test.labels,\n",
    "                                  is_training: False\n",
    "                                 })\n",
    "        print('Final test accuracy: {:>3.5f}'.format(acc))\n",
    "        \n",
    "        # Score the first 100 test images individually. This won't work if batch normalization isn't implemented correctly.\n",
    "        correct = 0\n",
    "        for i in range(100):\n",
    "            correct += sess.run(accuracy,feed_dict={inputs: [mnist.test.images[i]],\n",
    "                                                    labels: [mnist.test.labels[i]],\n",
    "                                                    is_training: False\n",
    "                                                   })\n",
    "\n",
    "        print(\"Accuracy on 100 samples:\", correct/100)\n",
    "\n",
    "\n",
    "num_batches = 800\n",
    "batch_size = 64\n",
    "learning_rate = 0.002\n",
    "\n",
    "tf.reset_default_graph()\n",
    "with tf.Graph().as_default():\n",
    "    train(num_batches, batch_size, learning_rate)"
   ]
  },
  {
   "cell_type": "markdown",
   "metadata": {},
   "source": [
    "Once again, the model with batch normalization should reach an accuracy over 90%. There are plenty of details that can go wrong when implementing at this low level, so if you got it working - great job! If not, do not worry, just look at the `Batch_Normalization_Solutions` notebook to see what went wrong."
   ]
  },
  {
   "cell_type": "code",
   "execution_count": null,
   "metadata": {
    "collapsed": true
   },
   "outputs": [],
   "source": []
  }
 ],
 "metadata": {
  "anaconda-cloud": {},
  "kernelspec": {
   "display_name": "Python 3",
   "language": "python",
   "name": "python3"
  },
  "language_info": {
   "codemirror_mode": {
    "name": "ipython",
    "version": 3
   },
   "file_extension": ".py",
   "mimetype": "text/x-python",
   "name": "python",
   "nbconvert_exporter": "python",
   "pygments_lexer": "ipython3",
   "version": "3.6.0"
  }
 },
 "nbformat": 4,
 "nbformat_minor": 2
}
