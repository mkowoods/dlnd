{
 "cells": [
  {
   "cell_type": "code",
   "execution_count": 23,
   "metadata": {
    "collapsed": true
   },
   "outputs": [],
   "source": [
    "freq = range(5, 500, 5)"
   ]
  },
  {
   "cell_type": "code",
   "execution_count": 24,
   "metadata": {
    "collapsed": false
   },
   "outputs": [
    {
     "data": {
      "text/plain": [
       "[5,\n",
       " 10,\n",
       " 15,\n",
       " 20,\n",
       " 25,\n",
       " 30,\n",
       " 35,\n",
       " 40,\n",
       " 45,\n",
       " 50,\n",
       " 55,\n",
       " 60,\n",
       " 65,\n",
       " 70,\n",
       " 75,\n",
       " 80,\n",
       " 85,\n",
       " 90,\n",
       " 95,\n",
       " 100]"
      ]
     },
     "execution_count": 24,
     "metadata": {},
     "output_type": "execute_result"
    }
   ],
   "source": [
    "list(freq)[:20]"
   ]
  },
  {
   "cell_type": "code",
   "execution_count": 25,
   "metadata": {
    "collapsed": false
   },
   "outputs": [],
   "source": [
    "import random\n",
    "def get_sample(n, prob, sample_size = 1000):\n",
    "    samples = []\n",
    "    for _ in range(sample_size):\n",
    "        total = 0\n",
    "        for _ in range(n):\n",
    "            if random.random() < prob:\n",
    "                total += 1\n",
    "        samples.append(total)\n",
    "    return int(sum(samples)/sample_size)"
   ]
  },
  {
   "cell_type": "code",
   "execution_count": 27,
   "metadata": {
    "collapsed": false
   },
   "outputs": [
    {
     "name": "stdout",
     "output_type": "stream",
     "text": [
      "5 0 0 0 1 1\n",
      "10 0 0 0 2 3\n",
      "15 0 0 1 3 4\n",
      "20 0 1 1 4 5\n",
      "25 0 1 2 6 7\n",
      "30 0 1 3 7 9\n",
      "35 0 1 3 8 10\n",
      "40 0 1 3 10 12\n",
      "45 0 2 4 11 13\n",
      "50 0 2 5 12 15\n",
      "55 1 2 5 13 16\n",
      "60 1 3 5 15 18\n",
      "65 1 3 6 16 19\n",
      "70 1 3 6 17 20\n",
      "75 1 3 7 18 22\n",
      "80 1 4 7 19 24\n",
      "85 1 4 8 21 25\n",
      "90 1 4 9 22 26\n",
      "95 1 4 9 23 28\n",
      "100 1 5 10 25 30\n",
      "105 2 5 10 26 31\n",
      "110 2 5 10 27 33\n",
      "115 2 5 11 28 34\n",
      "120 2 6 11 29 36\n",
      "125 2 6 12 31 37\n",
      "130 2 6 13 32 38\n",
      "135 2 6 13 33 40\n",
      "140 2 6 13 34 42\n",
      "145 2 7 14 36 43\n",
      "150 2 7 14 37 45\n",
      "155 3 7 15 38 46\n",
      "160 3 7 15 39 48\n",
      "165 3 8 16 41 49\n",
      "170 3 8 17 42 50\n",
      "175 3 8 17 43 52\n",
      "180 3 8 17 45 53\n",
      "185 3 9 18 46 55\n",
      "190 3 9 18 47 57\n",
      "195 3 9 19 48 58\n",
      "200 3 9 19 49 60\n",
      "205 4 10 20 51 61\n",
      "210 4 10 21 52 62\n",
      "215 4 10 21 53 64\n",
      "220 4 10 21 54 66\n",
      "225 4 11 22 55 67\n",
      "230 4 11 23 57 68\n",
      "235 4 11 23 59 70\n",
      "240 4 12 24 60 72\n",
      "245 4 12 24 61 73\n",
      "250 5 12 24 62 75\n",
      "255 5 12 25 63 76\n",
      "260 5 12 25 64 78\n",
      "265 5 13 26 66 79\n",
      "270 5 13 26 67 80\n",
      "275 5 13 27 68 81\n",
      "280 5 13 27 69 84\n",
      "285 5 14 28 71 85\n",
      "290 5 14 29 72 86\n",
      "295 5 14 29 73 88\n",
      "300 6 15 29 75 89\n",
      "305 6 15 30 76 91\n",
      "310 6 15 30 77 92\n",
      "315 6 15 31 78 94\n",
      "320 6 16 31 80 96\n",
      "325 6 16 32 81 97\n",
      "330 6 16 33 82 98\n",
      "335 6 16 33 84 100\n",
      "340 6 17 33 84 101\n",
      "345 6 17 34 86 103\n",
      "350 7 17 35 87 104\n",
      "355 7 17 35 88 106\n",
      "360 7 18 36 90 108\n",
      "365 7 18 36 91 109\n",
      "370 7 18 36 92 111\n",
      "375 7 18 37 94 112\n",
      "380 7 19 38 94 114\n",
      "385 7 19 38 96 115\n",
      "390 7 19 38 97 117\n",
      "395 7 19 39 98 118\n",
      "400 7 19 39 99 119\n",
      "405 7 20 40 101 121\n",
      "410 8 20 41 102 122\n",
      "415 8 20 41 103 124\n",
      "420 8 21 41 104 126\n",
      "425 8 21 42 106 127\n",
      "430 8 21 42 107 129\n",
      "435 8 21 43 108 130\n",
      "440 8 21 44 110 132\n",
      "445 8 22 44 111 133\n",
      "450 8 22 44 112 135\n",
      "455 9 22 45 114 136\n",
      "460 9 22 45 115 138\n",
      "465 9 23 46 116 139\n",
      "470 9 23 46 117 141\n",
      "475 9 23 47 118 142\n",
      "480 9 24 48 120 144\n",
      "485 9 24 48 121 145\n",
      "490 9 24 48 122 147\n",
      "495 9 24 49 123 148\n"
     ]
    }
   ],
   "source": [
    "for f in freq:\n",
    "    print(f, get_sample(f, 0.02), get_sample(f, 0.05), get_sample(f, 0.1), get_sample(f, 0.25), get_sample(f, 0.3))"
   ]
  },
  {
   "cell_type": "code",
   "execution_count": null,
   "metadata": {
    "collapsed": true
   },
   "outputs": [],
   "source": []
  }
 ],
 "metadata": {
  "kernelspec": {
   "display_name": "Python 3",
   "language": "python",
   "name": "python3"
  },
  "language_info": {
   "codemirror_mode": {
    "name": "ipython",
    "version": 3
   },
   "file_extension": ".py",
   "mimetype": "text/x-python",
   "name": "python",
   "nbconvert_exporter": "python",
   "pygments_lexer": "ipython3",
   "version": "3.6.0"
  }
 },
 "nbformat": 4,
 "nbformat_minor": 2
}
